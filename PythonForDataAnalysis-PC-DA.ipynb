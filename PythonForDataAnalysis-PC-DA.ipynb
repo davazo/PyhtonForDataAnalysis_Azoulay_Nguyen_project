{
 "cells": [
  {
   "cell_type": "markdown",
   "metadata": {},
   "source": [
    "# ------------------ Uploading and visualazing the Avila dataset ---------------------"
   ]
  },
  {
   "cell_type": "markdown",
   "metadata": {},
   "source": [
    "## Uploading the dependencies"
   ]
  },
  {
   "cell_type": "code",
   "execution_count": null,
   "metadata": {},
   "outputs": [],
   "source": [
    "#pip install scikit-learn"
   ]
  },
  {
   "cell_type": "code",
   "execution_count": 72,
   "metadata": {},
   "outputs": [],
   "source": [
    "#we install the dependencies for data visualization\n",
    "import matplotlib.pyplot as plt\n",
    "import seaborn as sns\n",
    "\n",
    "#we install the dependencies to manipulate our data\n",
    "import pandas as pd\n",
    "import numpy as np\n",
    "\n",
    "#we previously installed sklearn\n",
    "\n",
    "# to split our train data set\n",
    "from sklearn.model_selection import train_test_split\n",
    "\n",
    "# to scale our features\n",
    "from sklearn.preprocessing import StandardScaler\n",
    "\n",
    "# to have a confusion matrix\n",
    "from sklearn.metrics import classification_report, confusion_matrix\n",
    "\n",
    "# to help while preprocessing\n",
    "from sklearn import preprocessing\n",
    "\n",
    "# to calculate the acuracy \n",
    "from sklearn import metrics\n",
    "\n",
    "# to be able to do a cross validation\n",
    "from sklearn.model_selection import cross_val_score\n",
    "\n",
    "scores_models=[]"
   ]
  },
  {
   "cell_type": "markdown",
   "metadata": {},
   "source": [
    "## Uploading my data"
   ]
  },
  {
   "cell_type": "code",
   "execution_count": 123,
   "metadata": {},
   "outputs": [],
   "source": [
    "# we transform our txt into a csv file for an easier manipulation\n",
    "data = pd.read_csv (r'D:/avila/avila-tr.txt')\n",
    "\n",
    "data.columns = ['intercolumnar distance', 'upper margin', 'lower margin', 'exploitation', 'row number', 'modular ration', 'interlinear spacing', 'weight', 'peak number', 'modular ratio/ interlinear spacing', 'Class']\n",
    "data.to_csv (r'./avila/avila-tr.txt', index=None)"
   ]
  },
  {
   "cell_type": "code",
   "execution_count": 124,
   "metadata": {},
   "outputs": [],
   "source": [
    "#we import our test set for the final prediction\n",
    "test = pd.read_csv (r'D:/avila/avila-ts.txt')\n",
    "\n",
    "test.columns = ['intercolumnar distance', 'upper margin', 'lower margin', 'exploitation', 'row number', 'modular ration', 'interlinear spacing', 'weight', 'peak number', 'modular ratio/ interlinear spacing', 'Class']\n",
    "test.to_csv (r'./avila/avila-ts.txt', index=None)"
   ]
  },
  {
   "cell_type": "code",
   "execution_count": 125,
   "metadata": {},
   "outputs": [
    {
     "data": {
      "text/html": [
       "<div>\n",
       "<style scoped>\n",
       "    .dataframe tbody tr th:only-of-type {\n",
       "        vertical-align: middle;\n",
       "    }\n",
       "\n",
       "    .dataframe tbody tr th {\n",
       "        vertical-align: top;\n",
       "    }\n",
       "\n",
       "    .dataframe thead th {\n",
       "        text-align: right;\n",
       "    }\n",
       "</style>\n",
       "<table border=\"1\" class=\"dataframe\">\n",
       "  <thead>\n",
       "    <tr style=\"text-align: right;\">\n",
       "      <th></th>\n",
       "      <th>intercolumnar distance</th>\n",
       "      <th>upper margin</th>\n",
       "      <th>lower margin</th>\n",
       "      <th>exploitation</th>\n",
       "      <th>row number</th>\n",
       "      <th>modular ration</th>\n",
       "      <th>interlinear spacing</th>\n",
       "      <th>weight</th>\n",
       "      <th>peak number</th>\n",
       "      <th>modular ratio/ interlinear spacing</th>\n",
       "      <th>Class</th>\n",
       "    </tr>\n",
       "  </thead>\n",
       "  <tbody>\n",
       "    <tr>\n",
       "      <td>0</td>\n",
       "      <td>0.130292</td>\n",
       "      <td>0.870736</td>\n",
       "      <td>-3.210528</td>\n",
       "      <td>0.062493</td>\n",
       "      <td>0.261718</td>\n",
       "      <td>1.436060</td>\n",
       "      <td>1.465940</td>\n",
       "      <td>0.636203</td>\n",
       "      <td>0.282354</td>\n",
       "      <td>0.515587</td>\n",
       "      <td>A</td>\n",
       "    </tr>\n",
       "    <tr>\n",
       "      <td>1</td>\n",
       "      <td>-0.116585</td>\n",
       "      <td>0.069915</td>\n",
       "      <td>0.068476</td>\n",
       "      <td>-0.783147</td>\n",
       "      <td>0.261718</td>\n",
       "      <td>0.439463</td>\n",
       "      <td>-0.081827</td>\n",
       "      <td>-0.888236</td>\n",
       "      <td>-0.123005</td>\n",
       "      <td>0.582939</td>\n",
       "      <td>A</td>\n",
       "    </tr>\n",
       "    <tr>\n",
       "      <td>2</td>\n",
       "      <td>0.031541</td>\n",
       "      <td>0.297600</td>\n",
       "      <td>-3.210528</td>\n",
       "      <td>-0.583590</td>\n",
       "      <td>-0.721442</td>\n",
       "      <td>-0.307984</td>\n",
       "      <td>0.710932</td>\n",
       "      <td>1.051693</td>\n",
       "      <td>0.594169</td>\n",
       "      <td>-0.533994</td>\n",
       "      <td>A</td>\n",
       "    </tr>\n",
       "    <tr>\n",
       "      <td>3</td>\n",
       "      <td>0.229043</td>\n",
       "      <td>0.807926</td>\n",
       "      <td>-0.052442</td>\n",
       "      <td>0.082634</td>\n",
       "      <td>0.261718</td>\n",
       "      <td>0.148790</td>\n",
       "      <td>0.635431</td>\n",
       "      <td>0.051062</td>\n",
       "      <td>0.032902</td>\n",
       "      <td>-0.086652</td>\n",
       "      <td>F</td>\n",
       "    </tr>\n",
       "    <tr>\n",
       "      <td>4</td>\n",
       "      <td>0.117948</td>\n",
       "      <td>-0.220579</td>\n",
       "      <td>-3.210528</td>\n",
       "      <td>-1.623238</td>\n",
       "      <td>0.261718</td>\n",
       "      <td>-0.349509</td>\n",
       "      <td>0.257927</td>\n",
       "      <td>-0.385979</td>\n",
       "      <td>-0.247731</td>\n",
       "      <td>-0.331310</td>\n",
       "      <td>A</td>\n",
       "    </tr>\n",
       "  </tbody>\n",
       "</table>\n",
       "</div>"
      ],
      "text/plain": [
       "   intercolumnar distance  upper margin  lower margin  exploitation  \\\n",
       "0                0.130292      0.870736     -3.210528      0.062493   \n",
       "1               -0.116585      0.069915      0.068476     -0.783147   \n",
       "2                0.031541      0.297600     -3.210528     -0.583590   \n",
       "3                0.229043      0.807926     -0.052442      0.082634   \n",
       "4                0.117948     -0.220579     -3.210528     -1.623238   \n",
       "\n",
       "   row number  modular ration  interlinear spacing    weight  peak number  \\\n",
       "0    0.261718        1.436060             1.465940  0.636203     0.282354   \n",
       "1    0.261718        0.439463            -0.081827 -0.888236    -0.123005   \n",
       "2   -0.721442       -0.307984             0.710932  1.051693     0.594169   \n",
       "3    0.261718        0.148790             0.635431  0.051062     0.032902   \n",
       "4    0.261718       -0.349509             0.257927 -0.385979    -0.247731   \n",
       "\n",
       "   modular ratio/ interlinear spacing Class  \n",
       "0                            0.515587     A  \n",
       "1                            0.582939     A  \n",
       "2                           -0.533994     A  \n",
       "3                           -0.086652     F  \n",
       "4                           -0.331310     A  "
      ]
     },
     "execution_count": 125,
     "metadata": {},
     "output_type": "execute_result"
    }
   ],
   "source": [
    "data.head()"
   ]
  },
  {
   "cell_type": "code",
   "execution_count": 126,
   "metadata": {},
   "outputs": [
    {
     "data": {
      "text/html": [
       "<div>\n",
       "<style scoped>\n",
       "    .dataframe tbody tr th:only-of-type {\n",
       "        vertical-align: middle;\n",
       "    }\n",
       "\n",
       "    .dataframe tbody tr th {\n",
       "        vertical-align: top;\n",
       "    }\n",
       "\n",
       "    .dataframe thead th {\n",
       "        text-align: right;\n",
       "    }\n",
       "</style>\n",
       "<table border=\"1\" class=\"dataframe\">\n",
       "  <thead>\n",
       "    <tr style=\"text-align: right;\">\n",
       "      <th></th>\n",
       "      <th>intercolumnar distance</th>\n",
       "      <th>upper margin</th>\n",
       "      <th>lower margin</th>\n",
       "      <th>exploitation</th>\n",
       "      <th>row number</th>\n",
       "      <th>modular ration</th>\n",
       "      <th>interlinear spacing</th>\n",
       "      <th>weight</th>\n",
       "      <th>peak number</th>\n",
       "      <th>modular ratio/ interlinear spacing</th>\n",
       "      <th>Class</th>\n",
       "    </tr>\n",
       "  </thead>\n",
       "  <tbody>\n",
       "    <tr>\n",
       "      <td>count</td>\n",
       "      <td>10429.000000</td>\n",
       "      <td>10429.000000</td>\n",
       "      <td>10429.000000</td>\n",
       "      <td>10429.000000</td>\n",
       "      <td>10429.000000</td>\n",
       "      <td>10429.000000</td>\n",
       "      <td>10429.000000</td>\n",
       "      <td>10429.000000</td>\n",
       "      <td>10429.000000</td>\n",
       "      <td>10429.000000</td>\n",
       "      <td>10429</td>\n",
       "    </tr>\n",
       "    <tr>\n",
       "      <td>unique</td>\n",
       "      <td>NaN</td>\n",
       "      <td>NaN</td>\n",
       "      <td>NaN</td>\n",
       "      <td>NaN</td>\n",
       "      <td>NaN</td>\n",
       "      <td>NaN</td>\n",
       "      <td>NaN</td>\n",
       "      <td>NaN</td>\n",
       "      <td>NaN</td>\n",
       "      <td>NaN</td>\n",
       "      <td>12</td>\n",
       "    </tr>\n",
       "    <tr>\n",
       "      <td>top</td>\n",
       "      <td>NaN</td>\n",
       "      <td>NaN</td>\n",
       "      <td>NaN</td>\n",
       "      <td>NaN</td>\n",
       "      <td>NaN</td>\n",
       "      <td>NaN</td>\n",
       "      <td>NaN</td>\n",
       "      <td>NaN</td>\n",
       "      <td>NaN</td>\n",
       "      <td>NaN</td>\n",
       "      <td>A</td>\n",
       "    </tr>\n",
       "    <tr>\n",
       "      <td>freq</td>\n",
       "      <td>NaN</td>\n",
       "      <td>NaN</td>\n",
       "      <td>NaN</td>\n",
       "      <td>NaN</td>\n",
       "      <td>NaN</td>\n",
       "      <td>NaN</td>\n",
       "      <td>NaN</td>\n",
       "      <td>NaN</td>\n",
       "      <td>NaN</td>\n",
       "      <td>NaN</td>\n",
       "      <td>4285</td>\n",
       "    </tr>\n",
       "    <tr>\n",
       "      <td>mean</td>\n",
       "      <td>0.000827</td>\n",
       "      <td>0.033630</td>\n",
       "      <td>-0.000556</td>\n",
       "      <td>-0.002433</td>\n",
       "      <td>0.006354</td>\n",
       "      <td>0.013948</td>\n",
       "      <td>0.005570</td>\n",
       "      <td>0.010234</td>\n",
       "      <td>0.012891</td>\n",
       "      <td>0.000803</td>\n",
       "      <td>NaN</td>\n",
       "    </tr>\n",
       "    <tr>\n",
       "      <td>std</td>\n",
       "      <td>0.991475</td>\n",
       "      <td>3.921056</td>\n",
       "      <td>1.120251</td>\n",
       "      <td>1.008564</td>\n",
       "      <td>0.992100</td>\n",
       "      <td>1.126296</td>\n",
       "      <td>1.313812</td>\n",
       "      <td>1.003515</td>\n",
       "      <td>1.087715</td>\n",
       "      <td>1.007141</td>\n",
       "      <td>NaN</td>\n",
       "    </tr>\n",
       "    <tr>\n",
       "      <td>min</td>\n",
       "      <td>-3.498799</td>\n",
       "      <td>-2.426761</td>\n",
       "      <td>-3.210528</td>\n",
       "      <td>-5.440122</td>\n",
       "      <td>-4.922215</td>\n",
       "      <td>-7.450257</td>\n",
       "      <td>-11.935457</td>\n",
       "      <td>-4.247781</td>\n",
       "      <td>-5.486218</td>\n",
       "      <td>-6.719324</td>\n",
       "      <td>NaN</td>\n",
       "    </tr>\n",
       "    <tr>\n",
       "      <td>25%</td>\n",
       "      <td>-0.128929</td>\n",
       "      <td>-0.259834</td>\n",
       "      <td>0.064919</td>\n",
       "      <td>-0.528002</td>\n",
       "      <td>0.172340</td>\n",
       "      <td>-0.598658</td>\n",
       "      <td>-0.044076</td>\n",
       "      <td>-0.542001</td>\n",
       "      <td>-0.372457</td>\n",
       "      <td>-0.516103</td>\n",
       "      <td>NaN</td>\n",
       "    </tr>\n",
       "    <tr>\n",
       "      <td>50%</td>\n",
       "      <td>0.043885</td>\n",
       "      <td>-0.055704</td>\n",
       "      <td>0.217845</td>\n",
       "      <td>0.095763</td>\n",
       "      <td>0.261718</td>\n",
       "      <td>-0.058835</td>\n",
       "      <td>0.220177</td>\n",
       "      <td>0.111754</td>\n",
       "      <td>0.064084</td>\n",
       "      <td>-0.034621</td>\n",
       "      <td>NaN</td>\n",
       "    </tr>\n",
       "    <tr>\n",
       "      <td>75%</td>\n",
       "      <td>0.204355</td>\n",
       "      <td>0.203385</td>\n",
       "      <td>0.352988</td>\n",
       "      <td>0.658210</td>\n",
       "      <td>0.261718</td>\n",
       "      <td>0.564038</td>\n",
       "      <td>0.446679</td>\n",
       "      <td>0.654900</td>\n",
       "      <td>0.500624</td>\n",
       "      <td>0.530885</td>\n",
       "      <td>NaN</td>\n",
       "    </tr>\n",
       "    <tr>\n",
       "      <td>max</td>\n",
       "      <td>11.819916</td>\n",
       "      <td>386.000000</td>\n",
       "      <td>50.000000</td>\n",
       "      <td>3.987152</td>\n",
       "      <td>1.066121</td>\n",
       "      <td>53.000000</td>\n",
       "      <td>83.000000</td>\n",
       "      <td>13.173081</td>\n",
       "      <td>44.000000</td>\n",
       "      <td>4.671232</td>\n",
       "      <td>NaN</td>\n",
       "    </tr>\n",
       "  </tbody>\n",
       "</table>\n",
       "</div>"
      ],
      "text/plain": [
       "        intercolumnar distance  upper margin  lower margin  exploitation  \\\n",
       "count             10429.000000  10429.000000  10429.000000  10429.000000   \n",
       "unique                     NaN           NaN           NaN           NaN   \n",
       "top                        NaN           NaN           NaN           NaN   \n",
       "freq                       NaN           NaN           NaN           NaN   \n",
       "mean                  0.000827      0.033630     -0.000556     -0.002433   \n",
       "std                   0.991475      3.921056      1.120251      1.008564   \n",
       "min                  -3.498799     -2.426761     -3.210528     -5.440122   \n",
       "25%                  -0.128929     -0.259834      0.064919     -0.528002   \n",
       "50%                   0.043885     -0.055704      0.217845      0.095763   \n",
       "75%                   0.204355      0.203385      0.352988      0.658210   \n",
       "max                  11.819916    386.000000     50.000000      3.987152   \n",
       "\n",
       "          row number  modular ration  interlinear spacing        weight  \\\n",
       "count   10429.000000    10429.000000         10429.000000  10429.000000   \n",
       "unique           NaN             NaN                  NaN           NaN   \n",
       "top              NaN             NaN                  NaN           NaN   \n",
       "freq             NaN             NaN                  NaN           NaN   \n",
       "mean        0.006354        0.013948             0.005570      0.010234   \n",
       "std         0.992100        1.126296             1.313812      1.003515   \n",
       "min        -4.922215       -7.450257           -11.935457     -4.247781   \n",
       "25%         0.172340       -0.598658            -0.044076     -0.542001   \n",
       "50%         0.261718       -0.058835             0.220177      0.111754   \n",
       "75%         0.261718        0.564038             0.446679      0.654900   \n",
       "max         1.066121       53.000000            83.000000     13.173081   \n",
       "\n",
       "         peak number  modular ratio/ interlinear spacing  Class  \n",
       "count   10429.000000                        10429.000000  10429  \n",
       "unique           NaN                                 NaN     12  \n",
       "top              NaN                                 NaN      A  \n",
       "freq             NaN                                 NaN   4285  \n",
       "mean        0.012891                            0.000803    NaN  \n",
       "std         1.087715                            1.007141    NaN  \n",
       "min        -5.486218                           -6.719324    NaN  \n",
       "25%        -0.372457                           -0.516103    NaN  \n",
       "50%         0.064084                           -0.034621    NaN  \n",
       "75%         0.500624                            0.530885    NaN  \n",
       "max        44.000000                            4.671232    NaN  "
      ]
     },
     "execution_count": 126,
     "metadata": {},
     "output_type": "execute_result"
    }
   ],
   "source": [
    "data.describe(include = 'all')"
   ]
  },
  {
   "cell_type": "markdown",
   "metadata": {},
   "source": [
    "## Visualizing the data"
   ]
  },
  {
   "cell_type": "markdown",
   "metadata": {},
   "source": [
    "### Histogramms"
   ]
  },
  {
   "cell_type": "code",
   "execution_count": 18,
   "metadata": {
    "scrolled": false
   },
   "outputs": [
    {
     "data": {
      "image/png": "[encoded data removed]",
      "text/plain": [
       "<Figure size 432x288 with 1 Axes>"
      ]
     },
     "metadata": {
      "needs_background": "light"
     },
     "output_type": "display_data"
    },
    {
     "data": {
      "image/png": "[encoded data removed]",
      "text/plain": [
       "<Figure size 432x288 with 12 Axes>"
      ]
     },
     "metadata": {
      "needs_background": "light"
     },
     "output_type": "display_data"
    },
    {
     "data": {
      "image/png": "[encoded data removed]",
      "text/plain": [
       "<Figure size 432x288 with 1 Axes>"
      ]
     },
     "metadata": {
      "needs_background": "light"
     },
     "output_type": "display_data"
    },
    {
     "data": {
      "text/plain": [
       "count     10429\n",
       "unique       12\n",
       "top           A\n",
       "freq       4285\n",
       "Name: Class, dtype: object"
      ]
     },
     "execution_count": 18,
     "metadata": {},
     "output_type": "execute_result"
    }
   ],
   "source": [
    "#histogramm \n",
    "data['intercolumnar distance'].hist()\n",
    "# Add title and axis names\n",
    "plt.title('intercolumnar distance')\n",
    "plt.xlabel('intercolumnar distance')\n",
    "#plot the histogramm\n",
    "plt.show()\n",
    "\n",
    "data.hist()\n",
    "plt.show()\n",
    "        \n",
    "data['Class'].hist(bins=12)\n",
    "# Add title and axis names\n",
    "plt.title('Class histogram')\n",
    "plt.xlabel('Classes')\n",
    "plt.show()\n",
    "data['Class'].describe()"
   ]
  },
  {
   "cell_type": "markdown",
   "metadata": {},
   "source": [
    "### Box Plot"
   ]
  },
  {
   "cell_type": "code",
   "execution_count": 191,
   "metadata": {},
   "outputs": [
    {
     "data": {
      "image/png": "[encoded data removed]",
      "text/plain": [
       "<Figure size 1440x576 with 10 Axes>"
      ]
     },
     "metadata": {
      "needs_background": "light"
     },
     "output_type": "display_data"
    }
   ],
   "source": [
    "#bos plot\n",
    "data.plot(kind='box', subplots=True, figsize=(20,8));"
   ]
  },
  {
   "cell_type": "markdown",
   "metadata": {},
   "source": [
    "### Correlations between the values"
   ]
  },
  {
   "cell_type": "code",
   "execution_count": 304,
   "metadata": {},
   "outputs": [
    {
     "data": {
      "image/png": "[encoded data removed]",
      "text/plain": [
       "<Figure size 432x288 with 2 Axes>"
      ]
     },
     "metadata": {
      "needs_background": "light"
     },
     "output_type": "display_data"
    }
   ],
   "source": [
    "correlations = data.corr()\n",
    "\n",
    "names=['intercolumnar distance','upper margin','lower margin','exploitation','row number','modular ration','interlinear spacing','weight','peak number','modular ratio/ interlinear spacing']\n",
    "# plot correlation matrix\n",
    "fig = plt.figure()\n",
    "ax = fig.add_subplot(111)\n",
    "cax = ax.matshow(correlations, vmin=-1, vmax=1)\n",
    "fig.colorbar(cax)\n",
    "\n",
    "ticks = np.arange(0,10,1)\n",
    "ax.set_xticks(ticks)\n",
    "ax.set_yticks(ticks)\n",
    "ax.set_xticklabels(names, rotation= 'vertical')\n",
    "ax.set_yticklabels(names)\n",
    "plt.show()"
   ]
  },
  {
   "cell_type": "markdown",
   "metadata": {},
   "source": [
    "### Repartition of each values"
   ]
  },
  {
   "cell_type": "code",
   "execution_count": 19,
   "metadata": {},
   "outputs": [
    {
     "data": {
      "text/plain": [
       "<matplotlib.axes._subplots.AxesSubplot at 0x27294dd5e88>"
      ]
     },
     "execution_count": 19,
     "metadata": {},
     "output_type": "execute_result"
    },
    {
     "data": {
      "image/png": "[encoded data removed]",
      "text/plain": [
       "<Figure size 432x288 with 1 Axes>"
      ]
     },
     "metadata": {
      "needs_background": "light"
     },
     "output_type": "display_data"
    },
    {
     "data": {
      "image/png": "[encoded data removed]",
      "text/plain": [
       "<Figure size 432x288 with 1 Axes>"
      ]
     },
     "metadata": {
      "needs_background": "light"
     },
     "output_type": "display_data"
    },
    {
     "data": {
      "image/png": "[encoded data removed]",
      "text/plain": [
       "<Figure size 432x288 with 1 Axes>"
      ]
     },
     "metadata": {
      "needs_background": "light"
     },
     "output_type": "display_data"
    },
    {
     "data": {
      "image/png": "[encoded data removed]",
      "text/plain": [
       "<Figure size 432x288 with 1 Axes>"
      ]
     },
     "metadata": {
      "needs_background": "light"
     },
     "output_type": "display_data"
    },
    {
     "data": {
      "image/png": "[encoded data removed]",
      "text/plain": [
       "<Figure size 432x288 with 1 Axes>"
      ]
     },
     "metadata": {
      "needs_background": "light"
     },
     "output_type": "display_data"
    },
    {
     "data": {
      "image/png": "[encoded data removed]",
      "text/plain": [
       "<Figure size 432x288 with 1 Axes>"
      ]
     },
     "metadata": {
      "needs_background": "light"
     },
     "output_type": "display_data"
    },
    {
     "data": {
      "image/png": "[encoded data removed]",
      "text/plain": [
       "<Figure size 432x288 with 1 Axes>"
      ]
     },
     "metadata": {
      "needs_background": "light"
     },
     "output_type": "display_data"
    },
    {
     "data": {
      "image/png": "[encoded data removed]",
      "text/plain": [
       "<Figure size 432x288 with 1 Axes>"
      ]
     },
     "metadata": {
      "needs_background": "light"
     },
     "output_type": "display_data"
    },
    {
     "data": {
      "image/png": "[encoded data removed]",
      "text/plain": [
       "<Figure size 432x288 with 1 Axes>"
      ]
     },
     "metadata": {
      "needs_background": "light"
     },
     "output_type": "display_data"
    },
    {
     "data": {
      "image/png": "[encoded data removed]",
      "text/plain": [
       "<Figure size 432x288 with 1 Axes>"
      ]
     },
     "metadata": {
      "needs_background": "light"
     },
     "output_type": "display_data"
    }
   ],
   "source": [
    "plt.figure()\n",
    "sns.distplot(data['intercolumnar distance'])\n",
    "\n",
    "plt.figure()\n",
    "sns.distplot(data['upper margin'])\n",
    "\n",
    "plt.figure()\n",
    "sns.distplot(data['lower margin'])\n",
    "\n",
    "plt.figure()\n",
    "sns.distplot(data['exploitation'])\n",
    "\n",
    "plt.figure()\n",
    "sns.distplot(data['row number'])\n",
    "\n",
    "plt.figure()\n",
    "sns.distplot(data['modular ration'])\n",
    "\n",
    "plt.figure()\n",
    "sns.distplot(data['interlinear spacing'])\n",
    "\n",
    "plt.figure()\n",
    "sns.distplot(data['weight'])\n",
    "\n",
    "plt.figure()\n",
    "sns.distplot(data['peak number'])\n",
    "\n",
    "plt.figure()\n",
    "sns.distplot(data['modular ratio/ interlinear spacing'])\n",
    "\n",
    "\n"
   ]
  },
  {
   "cell_type": "markdown",
   "metadata": {},
   "source": [
    "# ------------------------------------ Preprocessing --------------------------------------"
   ]
  },
  {
   "cell_type": "markdown",
   "metadata": {},
   "source": [
    "### Missing values"
   ]
  },
  {
   "cell_type": "code",
   "execution_count": 194,
   "metadata": {},
   "outputs": [
    {
     "data": {
      "text/plain": [
       "intercolumnar distance                0\n",
       "upper margin                          0\n",
       "lower margin                          0\n",
       "exploitation                          0\n",
       "row number                            0\n",
       "modular ration                        0\n",
       "interlinear spacing                   0\n",
       "weight                                0\n",
       "peak number                           0\n",
       "modular ratio/ interlinear spacing    0\n",
       "Class                                 0\n",
       "dtype: int64"
      ]
     },
     "execution_count": 194,
     "metadata": {},
     "output_type": "execute_result"
    }
   ],
   "source": [
    "#we check for missing values\n",
    "data_null = data.copy()\n",
    "data_null.isnull().sum()\n",
    "\n",
    "# 1 correspond to 1 value missing \n",
    "#we don't have any missing values because we only see 0"
   ]
  },
  {
   "cell_type": "markdown",
   "metadata": {},
   "source": [
    "# Researching the best model"
   ]
  },
  {
   "cell_type": "markdown",
   "metadata": {},
   "source": [
    "## ---- KNN ----"
   ]
  },
  {
   "cell_type": "code",
   "execution_count": 195,
   "metadata": {},
   "outputs": [],
   "source": [
    "# train test split\n",
    "x = data.iloc[:, :-1].values # takes all the attributes\n",
    "y = data.iloc[:,-1:].values # takes only the classes\n",
    "\n",
    "# we create training and test splits\n",
    "\n",
    "# to split our train data set\n",
    "from sklearn.model_selection import train_test_split\n",
    "xTrain, xTest, yTrain, yTest = train_test_split(x,y, test_size = 0.25)"
   ]
  },
  {
   "cell_type": "code",
   "execution_count": 196,
   "metadata": {},
   "outputs": [],
   "source": [
    "# we scale our features\n",
    "scale = StandardScaler()\n",
    "scale.fit(xTrain)\n",
    "\n",
    "xTrain = scale.transform(xTrain)\n",
    "xTest = scale.transform(xTest)"
   ]
  },
  {
   "cell_type": "code",
   "execution_count": 197,
   "metadata": {},
   "outputs": [
    {
     "name": "stderr",
     "output_type": "stream",
     "text": [
      "D:\\Logiciels\\anaconda\\logiciel\\lib\\site-packages\\ipykernel_launcher.py:4: DataConversionWarning: A column-vector y was passed when a 1d array was expected. Please change the shape of y to (n_samples, ), for example using ravel().\n",
      "  after removing the cwd from sys.path.\n"
     ]
    },
    {
     "data": {
      "text/plain": [
       "KNeighborsClassifier(algorithm='auto', leaf_size=30, metric='minkowski',\n",
       "           metric_params=None, n_jobs=None, n_neighbors=25, p=2,\n",
       "           weights='uniform')"
      ]
     },
     "execution_count": 197,
     "metadata": {},
     "output_type": "execute_result"
    }
   ],
   "source": [
    "# training and predictions\n",
    "from sklearn.neighbors import KNeighborsClassifier\n",
    "classifier = KNeighborsClassifier(n_neighbors = 25)\n",
    "classifier.fit(xTrain, yTrain)"
   ]
  },
  {
   "cell_type": "code",
   "execution_count": 198,
   "metadata": {},
   "outputs": [
    {
     "name": "stdout",
     "output_type": "stream",
     "text": [
      "[[750   0   0   3   5  83   4   7   0   0   0   0]\n",
      " [  0   0   0   0   2   0   0   0   0   0   0   0]\n",
      " [  3   0   0   0   1   4   0   0   0   0   0   0]\n",
      " [ 33   0   0   8  12  28   0   3   0   0   0   1]\n",
      " [ 83   0   1   1 102  20   0   8   0   0   0   0]\n",
      " [188   0   0   1   2 208   2   2   0   0   0   1]\n",
      " [ 45   0   0   0   5  25  21   3   0   0   1   0]\n",
      " [ 34   0   0   0  10  22   1  33   0   0   0   0]\n",
      " [ 15   0   0   0   1   2   0   0 129   0   0   0]\n",
      " [ 11   0   0   0   0   0   0   0   0   0   0   0]\n",
      " [ 21   0   0   0  14   0   0   2   3   0  72   4]\n",
      " [ 15   0   0   0   1   0   0   1   3   0   2  24]]\n",
      "              precision    recall  f1-score   support\n",
      "\n",
      "           A       0.63      0.88      0.73       852\n",
      "           B       0.00      0.00      0.00         2\n",
      "           C       0.00      0.00      0.00         8\n",
      "           D       0.62      0.09      0.16        85\n",
      "           E       0.66      0.47      0.55       215\n",
      "           F       0.53      0.51      0.52       404\n",
      "           G       0.75      0.21      0.33       100\n",
      "           H       0.56      0.33      0.42       100\n",
      "           I       0.96      0.88      0.91       147\n",
      "           W       0.00      0.00      0.00        11\n",
      "           X       0.96      0.62      0.75       116\n",
      "           Y       0.80      0.52      0.63        46\n",
      "\n",
      "   micro avg       0.65      0.65      0.65      2086\n",
      "   macro avg       0.54      0.38      0.42      2086\n",
      "weighted avg       0.65      0.65      0.62      2086\n",
      "\n"
     ]
    },
    {
     "name": "stderr",
     "output_type": "stream",
     "text": [
      "D:\\Logiciels\\anaconda\\logiciel\\lib\\site-packages\\sklearn\\metrics\\classification.py:1143: UndefinedMetricWarning: Precision and F-score are ill-defined and being set to 0.0 in labels with no predicted samples.\n",
      "  'precision', 'predicted', average, warn_for)\n"
     ]
    }
   ],
   "source": [
    "yPred = classifier.predict(xTest)\n",
    "print(confusion_matrix(yTest, yPred))\n",
    "print(classification_report(yTest, yPred))"
   ]
  },
  {
   "cell_type": "markdown",
   "metadata": {},
   "source": [
    "### We add the result of the knn model to our scores tab"
   ]
  },
  {
   "cell_type": "code",
   "execution_count": 199,
   "metadata": {},
   "outputs": [],
   "source": [
    "scores_models.append(['knn', 0.66])"
   ]
  },
  {
   "cell_type": "code",
   "execution_count": 200,
   "metadata": {},
   "outputs": [
    {
     "name": "stderr",
     "output_type": "stream",
     "text": [
      "D:\\Logiciels\\anaconda\\logiciel\\lib\\site-packages\\ipykernel_launcher.py:7: DataConversionWarning: A column-vector y was passed when a 1d array was expected. Please change the shape of y to (n_samples, ), for example using ravel().\n",
      "  import sys\n",
      "D:\\Logiciels\\anaconda\\logiciel\\lib\\site-packages\\ipykernel_launcher.py:7: DataConversionWarning: A column-vector y was passed when a 1d array was expected. Please change the shape of y to (n_samples, ), for example using ravel().\n",
      "  import sys\n",
      "D:\\Logiciels\\anaconda\\logiciel\\lib\\site-packages\\ipykernel_launcher.py:7: DataConversionWarning: A column-vector y was passed when a 1d array was expected. Please change the shape of y to (n_samples, ), for example using ravel().\n",
      "  import sys\n",
      "D:\\Logiciels\\anaconda\\logiciel\\lib\\site-packages\\ipykernel_launcher.py:7: DataConversionWarning: A column-vector y was passed when a 1d array was expected. Please change the shape of y to (n_samples, ), for example using ravel().\n",
      "  import sys\n",
      "D:\\Logiciels\\anaconda\\logiciel\\lib\\site-packages\\ipykernel_launcher.py:7: DataConversionWarning: A column-vector y was passed when a 1d array was expected. Please change the shape of y to (n_samples, ), for example using ravel().\n",
      "  import sys\n",
      "D:\\Logiciels\\anaconda\\logiciel\\lib\\site-packages\\ipykernel_launcher.py:7: DataConversionWarning: A column-vector y was passed when a 1d array was expected. Please change the shape of y to (n_samples, ), for example using ravel().\n",
      "  import sys\n",
      "D:\\Logiciels\\anaconda\\logiciel\\lib\\site-packages\\ipykernel_launcher.py:7: DataConversionWarning: A column-vector y was passed when a 1d array was expected. Please change the shape of y to (n_samples, ), for example using ravel().\n",
      "  import sys\n",
      "D:\\Logiciels\\anaconda\\logiciel\\lib\\site-packages\\ipykernel_launcher.py:7: DataConversionWarning: A column-vector y was passed when a 1d array was expected. Please change the shape of y to (n_samples, ), for example using ravel().\n",
      "  import sys\n",
      "D:\\Logiciels\\anaconda\\logiciel\\lib\\site-packages\\ipykernel_launcher.py:7: DataConversionWarning: A column-vector y was passed when a 1d array was expected. Please change the shape of y to (n_samples, ), for example using ravel().\n",
      "  import sys\n",
      "D:\\Logiciels\\anaconda\\logiciel\\lib\\site-packages\\ipykernel_launcher.py:7: DataConversionWarning: A column-vector y was passed when a 1d array was expected. Please change the shape of y to (n_samples, ), for example using ravel().\n",
      "  import sys\n",
      "D:\\Logiciels\\anaconda\\logiciel\\lib\\site-packages\\ipykernel_launcher.py:7: DataConversionWarning: A column-vector y was passed when a 1d array was expected. Please change the shape of y to (n_samples, ), for example using ravel().\n",
      "  import sys\n",
      "D:\\Logiciels\\anaconda\\logiciel\\lib\\site-packages\\ipykernel_launcher.py:7: DataConversionWarning: A column-vector y was passed when a 1d array was expected. Please change the shape of y to (n_samples, ), for example using ravel().\n",
      "  import sys\n",
      "D:\\Logiciels\\anaconda\\logiciel\\lib\\site-packages\\ipykernel_launcher.py:7: DataConversionWarning: A column-vector y was passed when a 1d array was expected. Please change the shape of y to (n_samples, ), for example using ravel().\n",
      "  import sys\n",
      "D:\\Logiciels\\anaconda\\logiciel\\lib\\site-packages\\ipykernel_launcher.py:7: DataConversionWarning: A column-vector y was passed when a 1d array was expected. Please change the shape of y to (n_samples, ), for example using ravel().\n",
      "  import sys\n",
      "D:\\Logiciels\\anaconda\\logiciel\\lib\\site-packages\\ipykernel_launcher.py:7: DataConversionWarning: A column-vector y was passed when a 1d array was expected. Please change the shape of y to (n_samples, ), for example using ravel().\n",
      "  import sys\n",
      "D:\\Logiciels\\anaconda\\logiciel\\lib\\site-packages\\ipykernel_launcher.py:7: DataConversionWarning: A column-vector y was passed when a 1d array was expected. Please change the shape of y to (n_samples, ), for example using ravel().\n",
      "  import sys\n",
      "D:\\Logiciels\\anaconda\\logiciel\\lib\\site-packages\\ipykernel_launcher.py:7: DataConversionWarning: A column-vector y was passed when a 1d array was expected. Please change the shape of y to (n_samples, ), for example using ravel().\n",
      "  import sys\n",
      "D:\\Logiciels\\anaconda\\logiciel\\lib\\site-packages\\ipykernel_launcher.py:7: DataConversionWarning: A column-vector y was passed when a 1d array was expected. Please change the shape of y to (n_samples, ), for example using ravel().\n",
      "  import sys\n",
      "D:\\Logiciels\\anaconda\\logiciel\\lib\\site-packages\\ipykernel_launcher.py:7: DataConversionWarning: A column-vector y was passed when a 1d array was expected. Please change the shape of y to (n_samples, ), for example using ravel().\n",
      "  import sys\n",
      "D:\\Logiciels\\anaconda\\logiciel\\lib\\site-packages\\ipykernel_launcher.py:7: DataConversionWarning: A column-vector y was passed when a 1d array was expected. Please change the shape of y to (n_samples, ), for example using ravel().\n",
      "  import sys\n",
      "D:\\Logiciels\\anaconda\\logiciel\\lib\\site-packages\\ipykernel_launcher.py:7: DataConversionWarning: A column-vector y was passed when a 1d array was expected. Please change the shape of y to (n_samples, ), for example using ravel().\n",
      "  import sys\n",
      "D:\\Logiciels\\anaconda\\logiciel\\lib\\site-packages\\ipykernel_launcher.py:7: DataConversionWarning: A column-vector y was passed when a 1d array was expected. Please change the shape of y to (n_samples, ), for example using ravel().\n",
      "  import sys\n",
      "D:\\Logiciels\\anaconda\\logiciel\\lib\\site-packages\\ipykernel_launcher.py:7: DataConversionWarning: A column-vector y was passed when a 1d array was expected. Please change the shape of y to (n_samples, ), for example using ravel().\n",
      "  import sys\n",
      "D:\\Logiciels\\anaconda\\logiciel\\lib\\site-packages\\ipykernel_launcher.py:7: DataConversionWarning: A column-vector y was passed when a 1d array was expected. Please change the shape of y to (n_samples, ), for example using ravel().\n",
      "  import sys\n",
      "D:\\Logiciels\\anaconda\\logiciel\\lib\\site-packages\\ipykernel_launcher.py:7: DataConversionWarning: A column-vector y was passed when a 1d array was expected. Please change the shape of y to (n_samples, ), for example using ravel().\n",
      "  import sys\n",
      "D:\\Logiciels\\anaconda\\logiciel\\lib\\site-packages\\ipykernel_launcher.py:7: DataConversionWarning: A column-vector y was passed when a 1d array was expected. Please change the shape of y to (n_samples, ), for example using ravel().\n",
      "  import sys\n",
      "D:\\Logiciels\\anaconda\\logiciel\\lib\\site-packages\\ipykernel_launcher.py:7: DataConversionWarning: A column-vector y was passed when a 1d array was expected. Please change the shape of y to (n_samples, ), for example using ravel().\n",
      "  import sys\n",
      "D:\\Logiciels\\anaconda\\logiciel\\lib\\site-packages\\ipykernel_launcher.py:7: DataConversionWarning: A column-vector y was passed when a 1d array was expected. Please change the shape of y to (n_samples, ), for example using ravel().\n",
      "  import sys\n",
      "D:\\Logiciels\\anaconda\\logiciel\\lib\\site-packages\\ipykernel_launcher.py:7: DataConversionWarning: A column-vector y was passed when a 1d array was expected. Please change the shape of y to (n_samples, ), for example using ravel().\n",
      "  import sys\n",
      "D:\\Logiciels\\anaconda\\logiciel\\lib\\site-packages\\ipykernel_launcher.py:7: DataConversionWarning: A column-vector y was passed when a 1d array was expected. Please change the shape of y to (n_samples, ), for example using ravel().\n",
      "  import sys\n",
      "D:\\Logiciels\\anaconda\\logiciel\\lib\\site-packages\\ipykernel_launcher.py:7: DataConversionWarning: A column-vector y was passed when a 1d array was expected. Please change the shape of y to (n_samples, ), for example using ravel().\n",
      "  import sys\n",
      "D:\\Logiciels\\anaconda\\logiciel\\lib\\site-packages\\ipykernel_launcher.py:7: DataConversionWarning: A column-vector y was passed when a 1d array was expected. Please change the shape of y to (n_samples, ), for example using ravel().\n",
      "  import sys\n",
      "D:\\Logiciels\\anaconda\\logiciel\\lib\\site-packages\\ipykernel_launcher.py:7: DataConversionWarning: A column-vector y was passed when a 1d array was expected. Please change the shape of y to (n_samples, ), for example using ravel().\n",
      "  import sys\n",
      "D:\\Logiciels\\anaconda\\logiciel\\lib\\site-packages\\ipykernel_launcher.py:7: DataConversionWarning: A column-vector y was passed when a 1d array was expected. Please change the shape of y to (n_samples, ), for example using ravel().\n",
      "  import sys\n"
     ]
    },
    {
     "name": "stderr",
     "output_type": "stream",
     "text": [
      "D:\\Logiciels\\anaconda\\logiciel\\lib\\site-packages\\ipykernel_launcher.py:7: DataConversionWarning: A column-vector y was passed when a 1d array was expected. Please change the shape of y to (n_samples, ), for example using ravel().\n",
      "  import sys\n",
      "D:\\Logiciels\\anaconda\\logiciel\\lib\\site-packages\\ipykernel_launcher.py:7: DataConversionWarning: A column-vector y was passed when a 1d array was expected. Please change the shape of y to (n_samples, ), for example using ravel().\n",
      "  import sys\n",
      "D:\\Logiciels\\anaconda\\logiciel\\lib\\site-packages\\ipykernel_launcher.py:7: DataConversionWarning: A column-vector y was passed when a 1d array was expected. Please change the shape of y to (n_samples, ), for example using ravel().\n",
      "  import sys\n",
      "D:\\Logiciels\\anaconda\\logiciel\\lib\\site-packages\\ipykernel_launcher.py:7: DataConversionWarning: A column-vector y was passed when a 1d array was expected. Please change the shape of y to (n_samples, ), for example using ravel().\n",
      "  import sys\n",
      "D:\\Logiciels\\anaconda\\logiciel\\lib\\site-packages\\ipykernel_launcher.py:7: DataConversionWarning: A column-vector y was passed when a 1d array was expected. Please change the shape of y to (n_samples, ), for example using ravel().\n",
      "  import sys\n",
      "D:\\Logiciels\\anaconda\\logiciel\\lib\\site-packages\\ipykernel_launcher.py:7: DataConversionWarning: A column-vector y was passed when a 1d array was expected. Please change the shape of y to (n_samples, ), for example using ravel().\n",
      "  import sys\n",
      "D:\\Logiciels\\anaconda\\logiciel\\lib\\site-packages\\ipykernel_launcher.py:7: DataConversionWarning: A column-vector y was passed when a 1d array was expected. Please change the shape of y to (n_samples, ), for example using ravel().\n",
      "  import sys\n",
      "D:\\Logiciels\\anaconda\\logiciel\\lib\\site-packages\\ipykernel_launcher.py:7: DataConversionWarning: A column-vector y was passed when a 1d array was expected. Please change the shape of y to (n_samples, ), for example using ravel().\n",
      "  import sys\n",
      "D:\\Logiciels\\anaconda\\logiciel\\lib\\site-packages\\ipykernel_launcher.py:7: DataConversionWarning: A column-vector y was passed when a 1d array was expected. Please change the shape of y to (n_samples, ), for example using ravel().\n",
      "  import sys\n",
      "D:\\Logiciels\\anaconda\\logiciel\\lib\\site-packages\\ipykernel_launcher.py:7: DataConversionWarning: A column-vector y was passed when a 1d array was expected. Please change the shape of y to (n_samples, ), for example using ravel().\n",
      "  import sys\n",
      "D:\\Logiciels\\anaconda\\logiciel\\lib\\site-packages\\ipykernel_launcher.py:7: DataConversionWarning: A column-vector y was passed when a 1d array was expected. Please change the shape of y to (n_samples, ), for example using ravel().\n",
      "  import sys\n",
      "D:\\Logiciels\\anaconda\\logiciel\\lib\\site-packages\\ipykernel_launcher.py:7: DataConversionWarning: A column-vector y was passed when a 1d array was expected. Please change the shape of y to (n_samples, ), for example using ravel().\n",
      "  import sys\n",
      "D:\\Logiciels\\anaconda\\logiciel\\lib\\site-packages\\ipykernel_launcher.py:7: DataConversionWarning: A column-vector y was passed when a 1d array was expected. Please change the shape of y to (n_samples, ), for example using ravel().\n",
      "  import sys\n",
      "D:\\Logiciels\\anaconda\\logiciel\\lib\\site-packages\\ipykernel_launcher.py:7: DataConversionWarning: A column-vector y was passed when a 1d array was expected. Please change the shape of y to (n_samples, ), for example using ravel().\n",
      "  import sys\n",
      "D:\\Logiciels\\anaconda\\logiciel\\lib\\site-packages\\ipykernel_launcher.py:7: DataConversionWarning: A column-vector y was passed when a 1d array was expected. Please change the shape of y to (n_samples, ), for example using ravel().\n",
      "  import sys\n",
      "D:\\Logiciels\\anaconda\\logiciel\\lib\\site-packages\\ipykernel_launcher.py:7: DataConversionWarning: A column-vector y was passed when a 1d array was expected. Please change the shape of y to (n_samples, ), for example using ravel().\n",
      "  import sys\n",
      "D:\\Logiciels\\anaconda\\logiciel\\lib\\site-packages\\ipykernel_launcher.py:7: DataConversionWarning: A column-vector y was passed when a 1d array was expected. Please change the shape of y to (n_samples, ), for example using ravel().\n",
      "  import sys\n",
      "D:\\Logiciels\\anaconda\\logiciel\\lib\\site-packages\\ipykernel_launcher.py:7: DataConversionWarning: A column-vector y was passed when a 1d array was expected. Please change the shape of y to (n_samples, ), for example using ravel().\n",
      "  import sys\n",
      "D:\\Logiciels\\anaconda\\logiciel\\lib\\site-packages\\ipykernel_launcher.py:7: DataConversionWarning: A column-vector y was passed when a 1d array was expected. Please change the shape of y to (n_samples, ), for example using ravel().\n",
      "  import sys\n",
      "D:\\Logiciels\\anaconda\\logiciel\\lib\\site-packages\\ipykernel_launcher.py:7: DataConversionWarning: A column-vector y was passed when a 1d array was expected. Please change the shape of y to (n_samples, ), for example using ravel().\n",
      "  import sys\n",
      "D:\\Logiciels\\anaconda\\logiciel\\lib\\site-packages\\ipykernel_launcher.py:7: DataConversionWarning: A column-vector y was passed when a 1d array was expected. Please change the shape of y to (n_samples, ), for example using ravel().\n",
      "  import sys\n",
      "D:\\Logiciels\\anaconda\\logiciel\\lib\\site-packages\\ipykernel_launcher.py:7: DataConversionWarning: A column-vector y was passed when a 1d array was expected. Please change the shape of y to (n_samples, ), for example using ravel().\n",
      "  import sys\n",
      "D:\\Logiciels\\anaconda\\logiciel\\lib\\site-packages\\ipykernel_launcher.py:7: DataConversionWarning: A column-vector y was passed when a 1d array was expected. Please change the shape of y to (n_samples, ), for example using ravel().\n",
      "  import sys\n",
      "D:\\Logiciels\\anaconda\\logiciel\\lib\\site-packages\\ipykernel_launcher.py:7: DataConversionWarning: A column-vector y was passed when a 1d array was expected. Please change the shape of y to (n_samples, ), for example using ravel().\n",
      "  import sys\n",
      "D:\\Logiciels\\anaconda\\logiciel\\lib\\site-packages\\ipykernel_launcher.py:7: DataConversionWarning: A column-vector y was passed when a 1d array was expected. Please change the shape of y to (n_samples, ), for example using ravel().\n",
      "  import sys\n",
      "D:\\Logiciels\\anaconda\\logiciel\\lib\\site-packages\\ipykernel_launcher.py:7: DataConversionWarning: A column-vector y was passed when a 1d array was expected. Please change the shape of y to (n_samples, ), for example using ravel().\n",
      "  import sys\n",
      "D:\\Logiciels\\anaconda\\logiciel\\lib\\site-packages\\ipykernel_launcher.py:7: DataConversionWarning: A column-vector y was passed when a 1d array was expected. Please change the shape of y to (n_samples, ), for example using ravel().\n",
      "  import sys\n",
      "D:\\Logiciels\\anaconda\\logiciel\\lib\\site-packages\\ipykernel_launcher.py:7: DataConversionWarning: A column-vector y was passed when a 1d array was expected. Please change the shape of y to (n_samples, ), for example using ravel().\n",
      "  import sys\n",
      "D:\\Logiciels\\anaconda\\logiciel\\lib\\site-packages\\ipykernel_launcher.py:7: DataConversionWarning: A column-vector y was passed when a 1d array was expected. Please change the shape of y to (n_samples, ), for example using ravel().\n",
      "  import sys\n",
      "D:\\Logiciels\\anaconda\\logiciel\\lib\\site-packages\\ipykernel_launcher.py:7: DataConversionWarning: A column-vector y was passed when a 1d array was expected. Please change the shape of y to (n_samples, ), for example using ravel().\n",
      "  import sys\n",
      "D:\\Logiciels\\anaconda\\logiciel\\lib\\site-packages\\ipykernel_launcher.py:7: DataConversionWarning: A column-vector y was passed when a 1d array was expected. Please change the shape of y to (n_samples, ), for example using ravel().\n",
      "  import sys\n",
      "D:\\Logiciels\\anaconda\\logiciel\\lib\\site-packages\\ipykernel_launcher.py:7: DataConversionWarning: A column-vector y was passed when a 1d array was expected. Please change the shape of y to (n_samples, ), for example using ravel().\n",
      "  import sys\n",
      "D:\\Logiciels\\anaconda\\logiciel\\lib\\site-packages\\ipykernel_launcher.py:7: DataConversionWarning: A column-vector y was passed when a 1d array was expected. Please change the shape of y to (n_samples, ), for example using ravel().\n",
      "  import sys\n",
      "D:\\Logiciels\\anaconda\\logiciel\\lib\\site-packages\\ipykernel_launcher.py:7: DataConversionWarning: A column-vector y was passed when a 1d array was expected. Please change the shape of y to (n_samples, ), for example using ravel().\n",
      "  import sys\n"
     ]
    },
    {
     "name": "stderr",
     "output_type": "stream",
     "text": [
      "D:\\Logiciels\\anaconda\\logiciel\\lib\\site-packages\\ipykernel_launcher.py:7: DataConversionWarning: A column-vector y was passed when a 1d array was expected. Please change the shape of y to (n_samples, ), for example using ravel().\n",
      "  import sys\n",
      "D:\\Logiciels\\anaconda\\logiciel\\lib\\site-packages\\ipykernel_launcher.py:7: DataConversionWarning: A column-vector y was passed when a 1d array was expected. Please change the shape of y to (n_samples, ), for example using ravel().\n",
      "  import sys\n",
      "D:\\Logiciels\\anaconda\\logiciel\\lib\\site-packages\\ipykernel_launcher.py:7: DataConversionWarning: A column-vector y was passed when a 1d array was expected. Please change the shape of y to (n_samples, ), for example using ravel().\n",
      "  import sys\n",
      "D:\\Logiciels\\anaconda\\logiciel\\lib\\site-packages\\ipykernel_launcher.py:7: DataConversionWarning: A column-vector y was passed when a 1d array was expected. Please change the shape of y to (n_samples, ), for example using ravel().\n",
      "  import sys\n",
      "D:\\Logiciels\\anaconda\\logiciel\\lib\\site-packages\\ipykernel_launcher.py:7: DataConversionWarning: A column-vector y was passed when a 1d array was expected. Please change the shape of y to (n_samples, ), for example using ravel().\n",
      "  import sys\n",
      "D:\\Logiciels\\anaconda\\logiciel\\lib\\site-packages\\ipykernel_launcher.py:7: DataConversionWarning: A column-vector y was passed when a 1d array was expected. Please change the shape of y to (n_samples, ), for example using ravel().\n",
      "  import sys\n",
      "D:\\Logiciels\\anaconda\\logiciel\\lib\\site-packages\\ipykernel_launcher.py:7: DataConversionWarning: A column-vector y was passed when a 1d array was expected. Please change the shape of y to (n_samples, ), for example using ravel().\n",
      "  import sys\n",
      "D:\\Logiciels\\anaconda\\logiciel\\lib\\site-packages\\ipykernel_launcher.py:7: DataConversionWarning: A column-vector y was passed when a 1d array was expected. Please change the shape of y to (n_samples, ), for example using ravel().\n",
      "  import sys\n",
      "D:\\Logiciels\\anaconda\\logiciel\\lib\\site-packages\\ipykernel_launcher.py:7: DataConversionWarning: A column-vector y was passed when a 1d array was expected. Please change the shape of y to (n_samples, ), for example using ravel().\n",
      "  import sys\n",
      "D:\\Logiciels\\anaconda\\logiciel\\lib\\site-packages\\ipykernel_launcher.py:7: DataConversionWarning: A column-vector y was passed when a 1d array was expected. Please change the shape of y to (n_samples, ), for example using ravel().\n",
      "  import sys\n",
      "D:\\Logiciels\\anaconda\\logiciel\\lib\\site-packages\\ipykernel_launcher.py:7: DataConversionWarning: A column-vector y was passed when a 1d array was expected. Please change the shape of y to (n_samples, ), for example using ravel().\n",
      "  import sys\n",
      "D:\\Logiciels\\anaconda\\logiciel\\lib\\site-packages\\ipykernel_launcher.py:7: DataConversionWarning: A column-vector y was passed when a 1d array was expected. Please change the shape of y to (n_samples, ), for example using ravel().\n",
      "  import sys\n",
      "D:\\Logiciels\\anaconda\\logiciel\\lib\\site-packages\\ipykernel_launcher.py:7: DataConversionWarning: A column-vector y was passed when a 1d array was expected. Please change the shape of y to (n_samples, ), for example using ravel().\n",
      "  import sys\n",
      "D:\\Logiciels\\anaconda\\logiciel\\lib\\site-packages\\ipykernel_launcher.py:7: DataConversionWarning: A column-vector y was passed when a 1d array was expected. Please change the shape of y to (n_samples, ), for example using ravel().\n",
      "  import sys\n",
      "D:\\Logiciels\\anaconda\\logiciel\\lib\\site-packages\\ipykernel_launcher.py:7: DataConversionWarning: A column-vector y was passed when a 1d array was expected. Please change the shape of y to (n_samples, ), for example using ravel().\n",
      "  import sys\n",
      "D:\\Logiciels\\anaconda\\logiciel\\lib\\site-packages\\ipykernel_launcher.py:7: DataConversionWarning: A column-vector y was passed when a 1d array was expected. Please change the shape of y to (n_samples, ), for example using ravel().\n",
      "  import sys\n",
      "D:\\Logiciels\\anaconda\\logiciel\\lib\\site-packages\\ipykernel_launcher.py:7: DataConversionWarning: A column-vector y was passed when a 1d array was expected. Please change the shape of y to (n_samples, ), for example using ravel().\n",
      "  import sys\n",
      "D:\\Logiciels\\anaconda\\logiciel\\lib\\site-packages\\ipykernel_launcher.py:7: DataConversionWarning: A column-vector y was passed when a 1d array was expected. Please change the shape of y to (n_samples, ), for example using ravel().\n",
      "  import sys\n",
      "D:\\Logiciels\\anaconda\\logiciel\\lib\\site-packages\\ipykernel_launcher.py:7: DataConversionWarning: A column-vector y was passed when a 1d array was expected. Please change the shape of y to (n_samples, ), for example using ravel().\n",
      "  import sys\n",
      "D:\\Logiciels\\anaconda\\logiciel\\lib\\site-packages\\ipykernel_launcher.py:7: DataConversionWarning: A column-vector y was passed when a 1d array was expected. Please change the shape of y to (n_samples, ), for example using ravel().\n",
      "  import sys\n",
      "D:\\Logiciels\\anaconda\\logiciel\\lib\\site-packages\\ipykernel_launcher.py:7: DataConversionWarning: A column-vector y was passed when a 1d array was expected. Please change the shape of y to (n_samples, ), for example using ravel().\n",
      "  import sys\n",
      "D:\\Logiciels\\anaconda\\logiciel\\lib\\site-packages\\ipykernel_launcher.py:7: DataConversionWarning: A column-vector y was passed when a 1d array was expected. Please change the shape of y to (n_samples, ), for example using ravel().\n",
      "  import sys\n",
      "D:\\Logiciels\\anaconda\\logiciel\\lib\\site-packages\\ipykernel_launcher.py:7: DataConversionWarning: A column-vector y was passed when a 1d array was expected. Please change the shape of y to (n_samples, ), for example using ravel().\n",
      "  import sys\n",
      "D:\\Logiciels\\anaconda\\logiciel\\lib\\site-packages\\ipykernel_launcher.py:7: DataConversionWarning: A column-vector y was passed when a 1d array was expected. Please change the shape of y to (n_samples, ), for example using ravel().\n",
      "  import sys\n",
      "D:\\Logiciels\\anaconda\\logiciel\\lib\\site-packages\\ipykernel_launcher.py:7: DataConversionWarning: A column-vector y was passed when a 1d array was expected. Please change the shape of y to (n_samples, ), for example using ravel().\n",
      "  import sys\n",
      "D:\\Logiciels\\anaconda\\logiciel\\lib\\site-packages\\ipykernel_launcher.py:7: DataConversionWarning: A column-vector y was passed when a 1d array was expected. Please change the shape of y to (n_samples, ), for example using ravel().\n",
      "  import sys\n",
      "D:\\Logiciels\\anaconda\\logiciel\\lib\\site-packages\\ipykernel_launcher.py:7: DataConversionWarning: A column-vector y was passed when a 1d array was expected. Please change the shape of y to (n_samples, ), for example using ravel().\n",
      "  import sys\n",
      "D:\\Logiciels\\anaconda\\logiciel\\lib\\site-packages\\ipykernel_launcher.py:7: DataConversionWarning: A column-vector y was passed when a 1d array was expected. Please change the shape of y to (n_samples, ), for example using ravel().\n",
      "  import sys\n",
      "D:\\Logiciels\\anaconda\\logiciel\\lib\\site-packages\\ipykernel_launcher.py:7: DataConversionWarning: A column-vector y was passed when a 1d array was expected. Please change the shape of y to (n_samples, ), for example using ravel().\n",
      "  import sys\n",
      "D:\\Logiciels\\anaconda\\logiciel\\lib\\site-packages\\ipykernel_launcher.py:7: DataConversionWarning: A column-vector y was passed when a 1d array was expected. Please change the shape of y to (n_samples, ), for example using ravel().\n",
      "  import sys\n",
      "D:\\Logiciels\\anaconda\\logiciel\\lib\\site-packages\\ipykernel_launcher.py:7: DataConversionWarning: A column-vector y was passed when a 1d array was expected. Please change the shape of y to (n_samples, ), for example using ravel().\n",
      "  import sys\n"
     ]
    },
    {
     "name": "stdout",
     "output_type": "stream",
     "text": [
      "(8343, 10) (8343, 1) (2086, 10) (2086, 1)\n"
     ]
    }
   ],
   "source": [
    "# we compare the error rate with the k value\n",
    "error= []\n",
    "predictions=[]\n",
    "# we will test our model with a value of k between 1 and 100\n",
    "for i in range(1,100):\n",
    "    knn = KNeighborsClassifier(n_neighbors = i)\n",
    "    knn.fit(xTrain, yTrain)\n",
    "    pred = knn.predict(xTest)\n",
    "    error.append(np.mean(pred != yTest))\n",
    "    predictions.append(pred)\n",
    "print(xTrain.shape, yTrain.shape, xTest.shape, yTest.shape)\n"
   ]
  },
  {
   "cell_type": "code",
   "execution_count": 201,
   "metadata": {},
   "outputs": [
    {
     "data": {
      "text/plain": [
       "Text(0, 0.5, 'Mean Error')"
      ]
     },
     "execution_count": 201,
     "metadata": {},
     "output_type": "execute_result"
    },
    {
     "data": {
      "image/png": "[encoded data removed]",
      "text/plain": [
       "<Figure size 1440x864 with 1 Axes>"
      ]
     },
     "metadata": {
      "needs_background": "light"
     },
     "output_type": "display_data"
    }
   ],
   "source": [
    "# we plot\n",
    "plt.figure(figsize=(20, 12))\n",
    "plt.plot(range(1, 100), error, color='red', linestyle='dashed', marker='o',\n",
    "         markerfacecolor='blue', markersize=10)\n",
    "plt.title('Error Rate K Value')\n",
    "plt.xlabel('K Value')\n",
    "plt.ylabel('Mean Error')\n",
    "\n",
    "# we see that the bigger k is, the lower the error is\n",
    "#However, it will be time consuming to implement a k with a high value\n"
   ]
  },
  {
   "cell_type": "markdown",
   "metadata": {},
   "source": [
    "# ---- Preparing our data for the following models ----"
   ]
  },
  {
   "cell_type": "markdown",
   "metadata": {},
   "source": [
    "## For our training dataset"
   ]
  },
  {
   "cell_type": "markdown",
   "metadata": {},
   "source": [
    "### Convert our data to an array"
   ]
  },
  {
   "cell_type": "code",
   "execution_count": 75,
   "metadata": {},
   "outputs": [
    {
     "name": "stdout",
     "output_type": "stream",
     "text": [
      "[[ 1.302920e-01  8.707360e-01 -3.210528e+00 ...  6.362030e-01\n",
      "   2.823540e-01  5.155870e-01]\n",
      " [-1.165850e-01  6.991500e-02  6.847600e-02 ... -8.882360e-01\n",
      "  -1.230050e-01  5.829390e-01]\n",
      " [ 3.154100e-02  2.976000e-01 -3.210528e+00 ...  1.051693e+00\n",
      "   5.941690e-01 -5.339940e-01]\n",
      " ...\n",
      " [ 2.290430e-01 -7.450000e-04  1.716110e-01 ... -1.088486e+00\n",
      "  -5.907270e-01  5.801420e-01]\n",
      " [-3.017430e-01  3.525580e-01  2.889730e-01 ...  5.027610e-01\n",
      "   6.253500e-01  7.189690e-01]\n",
      " [-1.042410e-01 -1.037102e+00  3.885520e-01 ... -1.337547e+00\n",
      "   9.995280e-01 -5.510630e-01]]\n"
     ]
    }
   ],
   "source": [
    "# we want to predict the classes so we save them appart\n",
    "classes = np.array(data['Class'])\n",
    "\n",
    "#we remove the classes from our data\n",
    "data_rd = data.drop('Class' ,axis = 1)\n",
    "\n",
    "#saving data columns names for later use\n",
    "data_list = list(data_rd.columns)\n",
    "\n",
    "#convert to numpy array\n",
    "data_rd = np.array(data_rd)\n",
    "print(data_rd)"
   ]
  },
  {
   "cell_type": "markdown",
   "metadata": {},
   "source": [
    "### We split our training data"
   ]
  },
  {
   "cell_type": "code",
   "execution_count": 76,
   "metadata": {},
   "outputs": [],
   "source": [
    "# Split the training data into training and testing sets \n",
    "train_features, test_features, train_class, test_class = train_test_split(data_rd, classes, test_size = 0.25, random_state = 0)\n",
    "\n",
    "#random state will set a seed to keep the same split \n"
   ]
  },
  {
   "cell_type": "markdown",
   "metadata": {},
   "source": [
    "## We do the same but with our final test set"
   ]
  },
  {
   "cell_type": "markdown",
   "metadata": {},
   "source": [
    "### Convert our data to an array"
   ]
  },
  {
   "cell_type": "code",
   "execution_count": 77,
   "metadata": {},
   "outputs": [
    {
     "name": "stdout",
     "output_type": "stream",
     "text": [
      "[[ 0.204355 -0.354049  0.32098  ...  0.181844  2.090879 -2.009758]\n",
      " [ 0.759828 -1.304042 -0.023991 ... -0.450127  0.469443  0.060952]\n",
      " [-0.00549   0.360409  0.28186  ...  1.176165  0.968347 -0.627999]\n",
      " ...\n",
      " [-0.054866  0.580242  0.032912 ... -0.985508 -0.403638  1.276301]\n",
      " [ 0.080916  0.588093  0.01513  ...  0.163807 -0.091823 -0.593329]\n",
      " [ 0.377169  0.014957  0.381439 ... -0.494919 -0.247731 -1.212974]]\n"
     ]
    }
   ],
   "source": [
    "# we want to predict the classes so we save them appart\n",
    "classes_test = np.array(test['Class'])\n",
    "\n",
    "#we remove the classes from our data\n",
    "data_test = test.drop('Class' ,axis = 1)\n",
    "\n",
    "#saving data columns names for later use\n",
    "data__test_list = list(data_test.columns)\n",
    "\n",
    "#convert to numpy array\n",
    "data_test = np.array(data_test)\n",
    "print(data_test)"
   ]
  },
  {
   "cell_type": "markdown",
   "metadata": {},
   "source": [
    "# Applying the left models"
   ]
  },
  {
   "cell_type": "markdown",
   "metadata": {},
   "source": [
    "##  ---- Random Forest ----"
   ]
  },
  {
   "cell_type": "markdown",
   "metadata": {},
   "source": [
    "### Building the model"
   ]
  },
  {
   "cell_type": "code",
   "execution_count": 78,
   "metadata": {},
   "outputs": [],
   "source": [
    "# We import the random forest model\n",
    "from sklearn.ensemble import RandomForestRegressor\n",
    "# Instantiate model with 1000 decision trees\n",
    "rf = RandomForestRegressor(n_estimators = 1000, random_state = 0)"
   ]
  },
  {
   "cell_type": "markdown",
   "metadata": {},
   "source": [
    "### Encoding the classes"
   ]
  },
  {
   "cell_type": "code",
   "execution_count": 79,
   "metadata": {},
   "outputs": [],
   "source": [
    "# Because we have string values for the classes we want to predict\n",
    "# we use the LabelEncoder() function to transform the strings into int\n",
    "le = preprocessing.LabelEncoder()\n",
    "for i in range(len(train_class)):\n",
    "    train_class = le.fit_transform(train_class)"
   ]
  },
  {
   "cell_type": "markdown",
   "metadata": {},
   "source": [
    "### Trainning our model"
   ]
  },
  {
   "cell_type": "code",
   "execution_count": 80,
   "metadata": {},
   "outputs": [],
   "source": [
    "# Train the model on training data\n",
    "rf.fit(train_features, train_class);"
   ]
  },
  {
   "cell_type": "markdown",
   "metadata": {},
   "source": [
    "### Predicting "
   ]
  },
  {
   "cell_type": "code",
   "execution_count": 81,
   "metadata": {},
   "outputs": [
    {
     "name": "stdout",
     "output_type": "stream",
     "text": [
      "794\n",
      "[[ 0.167323  0.117022  0.047137 ...  0.725553  0.126447 -0.507086]\n",
      " [-0.104241 -0.197025  0.221401 ... -0.461757 -0.341275  0.93349 ]\n",
      " [ 0.105604  0.014957  0.377883 ... -1.790858 -1.682078  1.439938]\n",
      " ...\n",
      " [ 0.241386 -0.322644  0.310311 ... -0.217356 -0.154186  1.160922]\n",
      " [ 0.080916  0.588093  0.01513  ...  0.991234  0.219991 -0.706044]\n",
      " [-3.498799  0.164129  0.715741 ...  0.128238 -2.929337 -1.479405]]\n",
      "[0 5 7 ... 0 5 4]\n",
      "[1. 4. 4. ... 0. 5. 3.]\n"
     ]
    }
   ],
   "source": [
    "# Use the forest's predict method on the test data\n",
    "predictions = rf.predict(test_features)\n",
    "# Calculate the absolute errors\n",
    "le = preprocessing.LabelEncoder()\n",
    "for i in range(len(test_class)):\n",
    "    test_class = le.fit_transform(test_class)\n",
    "errors=0\n",
    "for i in range(len(test_class)):\n",
    "    predictions[i]= round(predictions[i])\n",
    "    if predictions[i] != test_class[i]:\n",
    "        #error.append(predictions[i])# != test_class[i])\n",
    "        errors+=1\n",
    "print(errors)\n",
    "print(test_features)\n",
    "print(test_class)\n",
    "print(predictions)"
   ]
  },
  {
   "cell_type": "markdown",
   "metadata": {},
   "source": [
    "### The probability that our prediction is acurate"
   ]
  },
  {
   "cell_type": "code",
   "execution_count": 82,
   "metadata": {},
   "outputs": [
    {
     "name": "stdout",
     "output_type": "stream",
     "text": [
      "Accuracy: 69.56 %\n"
     ]
    }
   ],
   "source": [
    "# we calculate the percentage\n",
    "mape=100*(errors/len(test_class))\n",
    "accuracy=100-np.mean(mape)\n",
    "print('Accuracy:', round(accuracy,2),'%')"
   ]
  },
  {
   "cell_type": "markdown",
   "metadata": {},
   "source": [
    "### We add the score of the random forest model to our scores tab"
   ]
  },
  {
   "cell_type": "code",
   "execution_count": 83,
   "metadata": {},
   "outputs": [],
   "source": [
    "scores_models.append(['random forest', 0.6956])"
   ]
  },
  {
   "cell_type": "markdown",
   "metadata": {},
   "source": [
    "##  ---- Decision trees ----"
   ]
  },
  {
   "cell_type": "code",
   "execution_count": 84,
   "metadata": {},
   "outputs": [],
   "source": [
    "# Loading the dependencies\n",
    "from sklearn.tree import DecisionTreeClassifier  "
   ]
  },
  {
   "cell_type": "markdown",
   "metadata": {},
   "source": [
    "### Building our model"
   ]
  },
  {
   "cell_type": "code",
   "execution_count": 85,
   "metadata": {},
   "outputs": [],
   "source": [
    "clf = DecisionTreeClassifier(criterion=\"entropy\", max_depth=50)\n",
    "# 0.98466 avec \"entropy\"\n",
    "# 0.88 avec criterion=\"entropy\" et splitter=\"random\"\n",
    "# 0.54 avec criterion=\"entropy\" et max_depth=3\n",
    "# 0.983 avec criterion=\"entropy\" et max_depth=40\n",
    "# 0.9866 avec criterion=\"entropy\" et max_depth=50"
   ]
  },
  {
   "cell_type": "markdown",
   "metadata": {},
   "source": [
    "### Training our model"
   ]
  },
  {
   "cell_type": "code",
   "execution_count": 86,
   "metadata": {},
   "outputs": [],
   "source": [
    "clf = clf.fit(train_features, train_class)"
   ]
  },
  {
   "cell_type": "markdown",
   "metadata": {},
   "source": [
    "### Predicting the classes"
   ]
  },
  {
   "cell_type": "code",
   "execution_count": 87,
   "metadata": {},
   "outputs": [],
   "source": [
    "class_pred = clf.predict(test_features)"
   ]
  },
  {
   "cell_type": "markdown",
   "metadata": {},
   "source": [
    "### The probability that our prediction is accurate"
   ]
  },
  {
   "cell_type": "code",
   "execution_count": 89,
   "metadata": {
    "scrolled": true
   },
   "outputs": [
    {
     "name": "stdout",
     "output_type": "stream",
     "text": [
      "Accuracy :  0.9792944785276073\n"
     ]
    }
   ],
   "source": [
    "print(\"Accuracy : \", metrics.accuracy_score(test_class, class_pred))\n",
    "#with random seed = 5000 -> 0.9815950920245399\n",
    "#with random seed = 42 -> 0.9846625766871165"
   ]
  },
  {
   "cell_type": "markdown",
   "metadata": {},
   "source": [
    "### We add the score of the decision trees model to our scores tab"
   ]
  },
  {
   "cell_type": "code",
   "execution_count": 90,
   "metadata": {},
   "outputs": [],
   "source": [
    "scores_models.append(['decision trees', 0.981])"
   ]
  },
  {
   "cell_type": "markdown",
   "metadata": {},
   "source": [
    "### Comparing our model using Cross Validation"
   ]
  },
  {
   "cell_type": "code",
   "execution_count": 91,
   "metadata": {},
   "outputs": [
    {
     "name": "stderr",
     "output_type": "stream",
     "text": [
      "D:\\Logiciels\\anaconda\\logiciel\\lib\\site-packages\\sklearn\\model_selection\\_split.py:652: Warning: The least populated class in y has only 4 members, which is too few. The minimum number of members in any class cannot be less than n_splits=5.\n",
      "  % (min_groups, self.n_splits)), Warning)\n"
     ]
    },
    {
     "data": {
      "text/plain": [
       "array([0.97386871, 0.97190294, 0.97507987, 0.97887324, 0.97498396])"
      ]
     },
     "execution_count": 91,
     "metadata": {},
     "output_type": "execute_result"
    }
   ],
   "source": [
    "scores = cross_val_score(clf, train_features, train_class, cv=5)\n",
    "scores"
   ]
  },
  {
   "cell_type": "code",
   "execution_count": 92,
   "metadata": {},
   "outputs": [
    {
     "name": "stdout",
     "output_type": "stream",
     "text": [
      "0.975 accuracy with a standard deviation of 0.002\n"
     ]
    }
   ],
   "source": [
    "print(\"%0.3f accuracy with a standard deviation of %0.3f\" % (scores.mean(), scores.std()))"
   ]
  },
  {
   "cell_type": "code",
   "execution_count": 93,
   "metadata": {},
   "outputs": [],
   "source": [
    "#for i in range (len(test_class)):\n",
    "#    print(test_class[i])\n",
    "#print(class_pred)"
   ]
  },
  {
   "cell_type": "markdown",
   "metadata": {},
   "source": [
    "## ---- Gaussian Naive Bayes ----"
   ]
  },
  {
   "cell_type": "markdown",
   "metadata": {},
   "source": [
    "### Importing the dependencies"
   ]
  },
  {
   "cell_type": "code",
   "execution_count": 94,
   "metadata": {},
   "outputs": [],
   "source": [
    "from sklearn.naive_bayes import GaussianNB"
   ]
  },
  {
   "cell_type": "markdown",
   "metadata": {},
   "source": [
    "### Building the model"
   ]
  },
  {
   "cell_type": "code",
   "execution_count": 95,
   "metadata": {},
   "outputs": [],
   "source": [
    "gnb = GaussianNB()"
   ]
  },
  {
   "cell_type": "markdown",
   "metadata": {},
   "source": [
    "### Predicting the classes"
   ]
  },
  {
   "cell_type": "code",
   "execution_count": 96,
   "metadata": {},
   "outputs": [],
   "source": [
    "pred = gnb.fit(train_features, train_class).predict(test_features)"
   ]
  },
  {
   "cell_type": "markdown",
   "metadata": {},
   "source": [
    "### Training our model"
   ]
  },
  {
   "cell_type": "code",
   "execution_count": 97,
   "metadata": {},
   "outputs": [
    {
     "name": "stdout",
     "output_type": "stream",
     "text": [
      "Number of mislabeled points out of a total 7821 points : 1852\n"
     ]
    }
   ],
   "source": [
    "print(\"Number of mislabeled points out of a total %d points : %d\"\n",
    "       % (train_features.shape[0], (test_class != pred).sum()))"
   ]
  },
  {
   "cell_type": "markdown",
   "metadata": {},
   "source": [
    "### The probability that our prediction is acurate"
   ]
  },
  {
   "cell_type": "code",
   "execution_count": 98,
   "metadata": {},
   "outputs": [
    {
     "name": "stdout",
     "output_type": "stream",
     "text": [
      "76.32016366193581\n"
     ]
    }
   ],
   "source": [
    "well_labeled=train_features.shape[0]-(test_class != pred).sum()\n",
    "accuracy=well_labeled*100/(train_features.shape[0])\n",
    "print(accuracy)"
   ]
  },
  {
   "cell_type": "markdown",
   "metadata": {},
   "source": [
    "### We add the score of the Naive Bayes model to our scores tab"
   ]
  },
  {
   "cell_type": "code",
   "execution_count": 99,
   "metadata": {},
   "outputs": [],
   "source": [
    "scores_models.append(['Naive Bayes', 0.763])"
   ]
  },
  {
   "cell_type": "markdown",
   "metadata": {},
   "source": [
    "## ---- Gradient boosting ----"
   ]
  },
  {
   "cell_type": "markdown",
   "metadata": {},
   "source": [
    "### Loading the dependencies"
   ]
  },
  {
   "cell_type": "code",
   "execution_count": 100,
   "metadata": {},
   "outputs": [],
   "source": [
    "from sklearn.ensemble import GradientBoostingClassifier"
   ]
  },
  {
   "cell_type": "markdown",
   "metadata": {},
   "source": [
    "### Building and training our model"
   ]
  },
  {
   "cell_type": "code",
   "execution_count": 101,
   "metadata": {},
   "outputs": [],
   "source": [
    "clf = GradientBoostingClassifier(n_estimators=200,\n",
    "     max_depth=6, random_state=0).fit(train_features, train_class)"
   ]
  },
  {
   "cell_type": "code",
   "execution_count": 102,
   "metadata": {},
   "outputs": [
    {
     "data": {
      "text/plain": [
       "0.995398773006135"
      ]
     },
     "execution_count": 102,
     "metadata": {},
     "output_type": "execute_result"
    }
   ],
   "source": [
    "clf.score(test_features, test_class)"
   ]
  },
  {
   "cell_type": "markdown",
   "metadata": {},
   "source": [
    "### We add the score of the Gradient boosting model to our scores tab"
   ]
  },
  {
   "cell_type": "code",
   "execution_count": 103,
   "metadata": {},
   "outputs": [],
   "source": [
    "scores_models.append(['Gradient boosting', 0.995])"
   ]
  },
  {
   "cell_type": "markdown",
   "metadata": {},
   "source": [
    "### The probability that our prediction is acurate"
   ]
  },
  {
   "cell_type": "code",
   "execution_count": 104,
   "metadata": {},
   "outputs": [],
   "source": [
    "# n_estimators=100,max_depth=5, random_state=0 :  0.9946\n",
    "# n_estimators=100,max_depth=5, random_state=0 :  0.7227\n",
    "# n_estimators=100,max_depth=6, random_state=0 :  0.9953\n",
    "pred=clf.predict(test_features)"
   ]
  },
  {
   "cell_type": "markdown",
   "metadata": {},
   "source": [
    "### Comparing our model using Cross Validation"
   ]
  },
  {
   "cell_type": "code",
   "execution_count": 105,
   "metadata": {},
   "outputs": [
    {
     "name": "stderr",
     "output_type": "stream",
     "text": [
      "D:\\Logiciels\\anaconda\\logiciel\\lib\\site-packages\\sklearn\\model_selection\\_split.py:652: Warning: The least populated class in y has only 4 members, which is too few. The minimum number of members in any class cannot be less than n_splits=5.\n",
      "  % (min_groups, self.n_splits)), Warning)\n"
     ]
    },
    {
     "data": {
      "text/plain": [
       "array([0.99553856, 0.99489144, 0.99169329, 0.99615877, 0.99422707])"
      ]
     },
     "execution_count": 105,
     "metadata": {},
     "output_type": "execute_result"
    }
   ],
   "source": [
    "scores = cross_val_score(clf, train_features, train_class, cv=5)\n",
    "scores"
   ]
  },
  {
   "cell_type": "code",
   "execution_count": 106,
   "metadata": {},
   "outputs": [
    {
     "name": "stdout",
     "output_type": "stream",
     "text": [
      "0.995 accuracy with a standard deviation of 0.002\n"
     ]
    }
   ],
   "source": [
    "print(\"%0.3f accuracy with a standard deviation of %0.3f\" % (scores.mean(), scores.std()))"
   ]
  },
  {
   "cell_type": "markdown",
   "metadata": {},
   "source": [
    "# ---- We chose our model ----"
   ]
  },
  {
   "cell_type": "markdown",
   "metadata": {},
   "source": [
    "## Visualizing our different models"
   ]
  },
  {
   "cell_type": "code",
   "execution_count": 107,
   "metadata": {},
   "outputs": [
    {
     "data": {
      "text/plain": [
       "<BarContainer object of 4 artists>"
      ]
     },
     "execution_count": 107,
     "metadata": {},
     "output_type": "execute_result"
    },
    {
     "data": {
      "image/png": "[encoded data removed]",
      "text/plain": [
       "<Figure size 720x360 with 1 Axes>"
      ]
     },
     "metadata": {
      "needs_background": "light"
     },
     "output_type": "display_data"
    }
   ],
   "source": [
    "\n",
    "models=[]\n",
    "scores=[]\n",
    "for y in range(len(scores_models)):\n",
    "    models.append(scores_models[y][0])\n",
    "    scores.append(scores_models[y][1])\n",
    "b=(models, scores)\n",
    "plt.figure(figsize=(10,5))\n",
    "plt.bar(*b)"
   ]
  },
  {
   "cell_type": "code",
   "execution_count": 108,
   "metadata": {},
   "outputs": [],
   "source": [
    "# By comapring the cross validation that we applied onto the Gradient Boosting and the Decision Tree (our two best models)\n",
    "# we see that the cross validation obtain better score with the Gradient Boosting model\n",
    "\n",
    "# For this reason, we choose the Gradient Boosting Model"
   ]
  },
  {
   "cell_type": "code",
   "execution_count": 109,
   "metadata": {},
   "outputs": [
    {
     "data": {
      "text/plain": [
       "<BarContainer object of 2 artists>"
      ]
     },
     "execution_count": 109,
     "metadata": {},
     "output_type": "execute_result"
    },
    {
     "data": {
      "image/png": "[encoded data removed]",
      "text/plain": [
       "<Figure size 360x720 with 1 Axes>"
      ]
     },
     "metadata": {
      "needs_background": "light"
     },
     "output_type": "display_data"
    }
   ],
   "source": [
    "d=(['Decision trees', 'Gradient boosting'], [0.976,0.994])\n",
    "\n",
    "plt.figure(figsize=(5,10))\n",
    "plt.title('Mean accuracy of cross validation for the best two models')\n",
    "plt.bar(*d, color=\"blueviolet\")"
   ]
  },
  {
   "cell_type": "markdown",
   "metadata": {},
   "source": [
    "## Boosting Our Model by tunning the hyperparameters "
   ]
  },
  {
   "cell_type": "markdown",
   "metadata": {},
   "source": [
    "### Grid search "
   ]
  },
  {
   "cell_type": "code",
   "execution_count": 110,
   "metadata": {},
   "outputs": [
    {
     "name": "stderr",
     "output_type": "stream",
     "text": [
      "D:\\Logiciels\\anaconda\\logiciel\\lib\\site-packages\\sklearn\\model_selection\\_split.py:2053: FutureWarning: You should specify a value for 'cv' instead of relying on the default value. The default value will change from 3 to 5 in version 0.22.\n",
      "  warnings.warn(CV_WARNING, FutureWarning)\n",
      "D:\\Logiciels\\anaconda\\logiciel\\lib\\site-packages\\sklearn\\model_selection\\_search.py:841: DeprecationWarning: The default of the `iid` parameter will change from True to False in version 0.22 and will be removed in 0.24. This will change numeric results when test-set sizes are unequal.\n",
      "  DeprecationWarning)\n"
     ]
    },
    {
     "name": "stdout",
     "output_type": "stream",
     "text": [
      "{'learning_rate': 0.1, 'max_depth': 6, 'n_estimators': 200}\n"
     ]
    }
   ],
   "source": [
    "from sklearn.model_selection import GridSearchCV\n",
    "parameters = [{ \n",
    "'learning_rate': [0.1, 1],\n",
    "'n_estimators':[10,100,200],\n",
    "'max_depth':[2,3,6] }]\n",
    "clf = GridSearchCV(\n",
    "        GradientBoostingClassifier(), parameters, scoring='accuracy'\n",
    "    )\n",
    "clf.fit(train_features, train_class)\n",
    "print(clf.best_params_)\n"
   ]
  },
  {
   "cell_type": "markdown",
   "metadata": {},
   "source": [
    "# Prediction on our test set"
   ]
  },
  {
   "cell_type": "markdown",
   "metadata": {},
   "source": [
    "### Reencoding our data"
   ]
  },
  {
   "cell_type": "code",
   "execution_count": 114,
   "metadata": {},
   "outputs": [],
   "source": [
    "lec = preprocessing.LabelEncoder()\n",
    "for i in range(len(classes_test)):\n",
    "    classes_encodees = lec.fit_transform(classes_test)\n",
    "\n"
   ]
  },
  {
   "cell_type": "markdown",
   "metadata": {},
   "source": [
    "### Predicting our data"
   ]
  },
  {
   "cell_type": "code",
   "execution_count": 119,
   "metadata": {},
   "outputs": [
    {
     "name": "stdout",
     "output_type": "stream",
     "text": [
      "The final accuracy on our test dataset is equal to:\n",
      "0.9966462246071291\n"
     ]
    }
   ],
   "source": [
    "#Final accuracy of the prediction on our test dataset\n",
    "print(\"The final accuracy on our test dataset is equal to:\")\n",
    "print(clf.score(data_test, classes_encodees))\n",
    "predictions = clf.predict(data_test)"
   ]
  },
  {
   "cell_type": "code",
   "execution_count": 120,
   "metadata": {},
   "outputs": [],
   "source": [
    "def reverse_encodage(test_predictions):\n",
    "    \n",
    "    result = '2';\n",
    "    \n",
    "    if test_predictions == 0:\n",
    "        result = 'A'\n",
    "\n",
    "    elif test_predictions == 1:\n",
    "        result = 'B'\n",
    "\n",
    "    elif test_predictions == 2:\n",
    "        result = 'C'\n",
    "\n",
    "    elif test_predictions == 3:\n",
    "        result = 'D'\n",
    "\n",
    "    elif test_predictions == 4:\n",
    "        result = 'E'\n",
    "\n",
    "    elif test_predictions == 5:\n",
    "        result = 'F'\n",
    "\n",
    "    elif test_predictions == 6:\n",
    "        result = 'G'\n",
    "\n",
    "    elif test_predictions == 7:\n",
    "        result = 'H'\n",
    "\n",
    "    elif test_predictions == 8:\n",
    "        result = 'I'\n",
    "\n",
    "    elif test_predictions == 9:\n",
    "        result = 'W'\n",
    "\n",
    "    elif test_predictions == 10:\n",
    "        result = 'x'\n",
    "\n",
    "    elif test_predictions == 11:\n",
    "        result = 'Y'\n",
    "    \n",
    "    return( result)"
   ]
  },
  {
   "cell_type": "markdown",
   "metadata": {},
   "source": [
    "### Saving our results"
   ]
  },
  {
   "cell_type": "code",
   "execution_count": 121,
   "metadata": {},
   "outputs": [],
   "source": [
    "# we create a new file where our results is saved\n",
    "f = open(\"./avila/prediction_response.txt\", \"a+\")\n",
    "with open('./avila/prediction_response.txt', 'w') as f:\n",
    "\n",
    "    for c in test_predictions:   \n",
    "        f.writelines(reverse_encodage(test_predictions[c]))\n",
    "        f.writelines(\"\\n\")\n",
    "f.close()\n",
    "    "
   ]
  },
  {
   "cell_type": "markdown",
   "metadata": {},
   "source": [
    "### We create a pickle that will be useful in our API"
   ]
  },
  {
   "cell_type": "code",
   "execution_count": 122,
   "metadata": {},
   "outputs": [],
   "source": [
    "import pickle\n",
    "pickle.dump(clf, open('model.pkl','wb'))"
   ]
  }
 ],
 "metadata": {
  "kernelspec": {
   "display_name": "Python 3",
   "language": "python",
   "name": "python3"
  },
  "language_info": {
   "codemirror_mode": {
    "name": "ipython",
    "version": 3
   },
   "file_extension": ".py",
   "mimetype": "text/x-python",
   "name": "python",
   "nbconvert_exporter": "python",
   "pygments_lexer": "ipython3",
   "version": "3.7.4"
  }
 },
 "nbformat": 4,
 "nbformat_minor": 2
}
